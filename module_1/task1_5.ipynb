{
  "nbformat": 4,
  "nbformat_minor": 0,
  "metadata": {
    "colab": {
      "provenance": []
    },
    "kernelspec": {
      "name": "python3",
      "display_name": "Python 3"
    },
    "language_info": {
      "name": "python"
    }
  },
  "cells": [
    {
      "cell_type": "markdown",
      "source": [
        "**Обработка данных в Python. Библиотека Pandas**"
      ],
      "metadata": {
        "id": "zWVPsGH-FjeM"
      }
    },
    {
      "cell_type": "markdown",
      "source": [
        "# Импорт библиотек\n"
      ],
      "metadata": {
        "id": "M0JbJN7Nn3B9"
      }
    },
    {
      "cell_type": "code",
      "execution_count": 220,
      "metadata": {
        "id": "s145Ifg6FieI"
      },
      "outputs": [],
      "source": [
        "import numpy as np\n",
        "import pandas as pd"
      ]
    },
    {
      "cell_type": "markdown",
      "source": [
        "# Исходные данные"
      ],
      "metadata": {
        "id": "qj5yhbIWoBcE"
      }
    },
    {
      "cell_type": "markdown",
      "source": [
        "Источник данных: [Заработная плата в области науки о данных](https://www.kaggle.com/datasets/ruchi798/data-science-job-salaries)\n",
        "\n",
        "Используемые поля:\n",
        "\n",
        "- *experience_level\t- Уровень опыта работы*\n",
        "- *job_title -\tДолжность*\n",
        "- *salary_in_usd - Заработная плата в долларах США*\n",
        "- *employee_residence - Основная страна проживания работника*"
      ],
      "metadata": {
        "id": "IoghXiQNDDrK"
      }
    },
    {
      "cell_type": "markdown",
      "source": [
        "# Считывание данных с файла"
      ],
      "metadata": {
        "id": "0N7K-Ygfou4t"
      }
    },
    {
      "cell_type": "code",
      "source": [
        "df = pd.read_csv('ds_salaries.csv', delimiter=',')\n",
        "df = df.drop(df.columns[[0, 1, 3, 5, 6, 9, 10, 11]], axis=1)\n",
        "#df"
      ],
      "metadata": {
        "id": "SVNeJR7WBn56"
      },
      "execution_count": 221,
      "outputs": []
    },
    {
      "cell_type": "markdown",
      "source": [
        "# Средняя и медианная зарплата по группам вакансий"
      ],
      "metadata": {
        "id": "CnpHjathpAIt"
      }
    },
    {
      "cell_type": "code",
      "source": [
        "print(round(df.groupby('job_title').agg({'salary_in_usd' : ['mean', 'median']}), 2)['salary_in_usd'].sort_values(by='median', ascending=False))"
      ],
      "metadata": {
        "id": "CVjHJNvMIbRk",
        "colab": {
          "base_uri": "https://localhost:8080/"
        },
        "outputId": "1c05120f-9be0-4182-c228-11344e001465"
      },
      "execution_count": 222,
      "outputs": [
        {
          "output_type": "stream",
          "name": "stdout",
          "text": [
            "                                               mean    median\n",
            "job_title                                                    \n",
            "Data Analytics Lead                       405000.00  405000.0\n",
            "Financial Data Analyst                    275000.00  275000.0\n",
            "Head of Data                              160162.60  200000.0\n",
            "Principal Data Engineer                   328333.33  200000.0\n",
            "Data Architect                            177873.91  180000.0\n",
            "Analytics Engineer                        175000.00  179850.0\n",
            "Principal Data Scientist                  215242.43  173762.0\n",
            "Director of Data Science                  195074.00  168000.0\n",
            "Data Specialist                           165000.00  165000.0\n",
            "Applied Data Scientist                    175655.00  157000.0\n",
            "Director of Data Engineering              156738.00  156738.0\n",
            "Machine Learning Scientist                158412.50  156500.0\n",
            "Data Science Manager                      158328.50  155750.0\n",
            "Data Engineering Manager                  123227.20  150000.0\n",
            "Head of Data Science                      146718.75  138937.5\n",
            "Cloud Data Engineer                       124647.00  124647.0\n",
            "Principal Data Analyst                    122500.00  122500.0\n",
            "Lead Data Engineer                        139724.50  121593.5\n",
            "Data Analytics Manager                    127134.29  120000.0\n",
            "Machine Learning Manager                  117104.00  117104.0\n",
            "Lead Data Scientist                       115190.00  115000.0\n",
            "Data Engineer                             112725.00  105500.0\n",
            "Staff Data Scientist                      105000.00  105000.0\n",
            "Data Scientist                            108187.83  103691.0\n",
            "Big Data Architect                         99703.00   99703.0\n",
            "Computer Vision Software Engineer         105248.67   95746.0\n",
            "Data Analyst                               92893.06   90320.0\n",
            "Marketing Data Analyst                     88654.00   88654.0\n",
            "Lead Machine Learning Engineer             87932.00   87932.0\n",
            "Machine Learning Engineer                 104880.15   87932.0\n",
            "Lead Data Analyst                          92203.00   87000.0\n",
            "Head of Machine Learning                   79039.00   79039.0\n",
            "Machine Learning Developer                 85860.67   78791.0\n",
            "Data Science Consultant                    69420.71   76833.0\n",
            "BI Data Analyst                            74755.17   76500.0\n",
            "Research Scientist                        109019.50   76263.5\n",
            "Business Data Analyst                      76691.20   70912.0\n",
            "ML Engineer                               117504.00   70537.5\n",
            "Data Analytics Engineer                    64799.25   64598.5\n",
            "Finance Data Analyst                       61896.00   61896.0\n",
            "Data Science Engineer                      75803.33   60000.0\n",
            "Machine Learning Infrastructure Engineer  101145.00   58255.0\n",
            "Applied Machine Learning Scientist        142068.75   56700.0\n",
            "ETL Developer                              54957.00   54957.0\n",
            "AI Scientist                               66135.57   45896.0\n",
            "Big Data Engineer                          51974.00   41305.5\n",
            "NLP Engineer                               37236.00   37236.0\n",
            "Computer Vision Engineer                   44419.33   26304.5\n",
            "Product Data Analyst                       13036.00   13036.0\n",
            "3D Computer Vision Researcher               5409.00    5409.0\n"
          ]
        }
      ]
    },
    {
      "cell_type": "markdown",
      "source": [
        "# Средняя и медианная зарплата по региону"
      ],
      "metadata": {
        "id": "ttpHpSHepPBZ"
      }
    },
    {
      "cell_type": "code",
      "source": [
        "print(round(df.groupby('employee_residence').agg({'salary_in_usd' : ['mean', 'median']}), 2)['salary_in_usd'].sort_values(by='median', ascending=False))"
      ],
      "metadata": {
        "id": "28fzuMOGI9V6",
        "colab": {
          "base_uri": "https://localhost:8080/"
        },
        "outputId": "d0acf2bb-d56c-4dba-f61d-4ac55d925c9d"
      },
      "execution_count": 223,
      "outputs": [
        {
          "output_type": "stream",
          "name": "stdout",
          "text": [
            "                         mean    median\n",
            "employee_residence                     \n",
            "MY                  200000.00  200000.0\n",
            "PR                  160000.00  160000.0\n",
            "US                  149194.12  138475.0\n",
            "NZ                  125000.00  125000.0\n",
            "CH                  122346.00  122346.0\n",
            "AE                  100000.00  115000.0\n",
            "SG                  104176.50  104176.5\n",
            "JE                  100000.00  100000.0\n",
            "DZ                  100000.00  100000.0\n",
            "IQ                  100000.00  100000.0\n",
            "AU                  108042.67   87425.0\n",
            "BE                   85699.00   85699.0\n",
            "CA                   97085.31   85000.0\n",
            "BG                   80000.00   80000.0\n",
            "DE                   85552.56   79197.0\n",
            "GB                   81403.16   78526.0\n",
            "BO                   75000.00   75000.0\n",
            "AT                   76738.67   74130.0\n",
            "JP                  103537.71   74000.0\n",
            "RU                  105750.00   72500.0\n",
            "IE                   71444.00   71444.0\n",
            "CZ                   69999.00   69999.0\n",
            "HK                   66022.00   66022.0\n",
            "SI                   63831.00   63831.0\n",
            "NL                   60956.60   62651.0\n",
            "AR                   60000.00   60000.0\n",
            "LU                   59102.00   59102.0\n",
            "FR                   59886.61   57920.0\n",
            "GR                   56331.23   54957.0\n",
            "PT                   42862.50   53090.0\n",
            "RO                   51419.00   51419.0\n",
            "ES                   57593.40   49461.0\n",
            "PH                   45760.00   45760.0\n",
            "HR                   45618.00   45618.0\n",
            "CN                   43331.00   43331.0\n",
            "PL                   56177.50   41093.5\n",
            "CL                   40038.00   40038.0\n",
            "VN                   30800.00   38400.0\n",
            "DK                   37252.50   37252.5\n",
            "IT                   61600.00   36366.5\n",
            "HU                   35997.00   35997.0\n",
            "EE                   32974.00   32974.0\n",
            "TN                   31875.00   31875.0\n",
            "NG                   30000.00   30000.0\n",
            "MT                   28369.00   28369.0\n",
            "RS                   25532.00   25532.0\n",
            "IN                   37322.33   22124.0\n",
            "CO                   21844.00   21844.0\n",
            "BR                   54634.67   21453.5\n",
            "TR                   20096.67   20171.0\n",
            "HN                   20000.00   20000.0\n",
            "MX                   18185.00   18185.0\n",
            "MD                   18000.00   18000.0\n",
            "PK                   27462.83   16000.0\n",
            "UA                   13400.00   13400.0\n",
            "KE                    9272.00    9272.0\n",
            "IR                    4000.00    4000.0\n"
          ]
        }
      ]
    },
    {
      "cell_type": "markdown",
      "source": [
        "# Самая высокооплачиваемая из групп вакансий, исходя из их средних зарплат"
      ],
      "metadata": {
        "id": "-nfdNe36pSs1"
      }
    },
    {
      "cell_type": "code",
      "source": [
        "print(round(df.groupby('job_title').agg({'salary_in_usd' : ['mean']}), 2)['salary_in_usd'].sort_values(by='mean', ascending=False).head(1))"
      ],
      "metadata": {
        "colab": {
          "base_uri": "https://localhost:8080/"
        },
        "id": "uuVlQzw1Nkm8",
        "outputId": "f2c990d2-6184-4dd4-c336-85888122a618"
      },
      "execution_count": 224,
      "outputs": [
        {
          "output_type": "stream",
          "name": "stdout",
          "text": [
            "                         mean\n",
            "job_title                    \n",
            "Data Analytics Lead  405000.0\n"
          ]
        }
      ]
    },
    {
      "cell_type": "markdown",
      "source": [
        "# Процентное соотношение каждого региона по вакансиям от всех вакансий"
      ],
      "metadata": {
        "id": "FbAWg3vlpPKK"
      }
    },
    {
      "cell_type": "code",
      "source": [
        "print(df.groupby('employee_residence').count()['job_title'] / df['job_title'].count() * 100)\n"
      ],
      "metadata": {
        "colab": {
          "base_uri": "https://localhost:8080/"
        },
        "id": "zvInjwCAUY2t",
        "outputId": "ee65ddfc-967b-4596-b248-937a50f63d09"
      },
      "execution_count": 225,
      "outputs": [
        {
          "output_type": "stream",
          "name": "stdout",
          "text": [
            "employee_residence\n",
            "AE     0.494234\n",
            "AR     0.164745\n",
            "AT     0.494234\n",
            "AU     0.494234\n",
            "BE     0.329489\n",
            "BG     0.164745\n",
            "BO     0.164745\n",
            "BR     0.988468\n",
            "CA     4.777595\n",
            "CH     0.164745\n",
            "CL     0.164745\n",
            "CN     0.164745\n",
            "CO     0.164745\n",
            "CZ     0.164745\n",
            "DE     4.118616\n",
            "DK     0.329489\n",
            "DZ     0.164745\n",
            "EE     0.164745\n",
            "ES     2.471170\n",
            "FR     2.965404\n",
            "GB     7.248764\n",
            "GR     2.141680\n",
            "HK     0.164745\n",
            "HN     0.164745\n",
            "HR     0.164745\n",
            "HU     0.329489\n",
            "IE     0.164745\n",
            "IN     4.942339\n",
            "IQ     0.164745\n",
            "IR     0.164745\n",
            "IT     0.658979\n",
            "JE     0.164745\n",
            "JP     1.153213\n",
            "KE     0.164745\n",
            "LU     0.164745\n",
            "MD     0.164745\n",
            "MT     0.164745\n",
            "MX     0.329489\n",
            "MY     0.164745\n",
            "NG     0.329489\n",
            "NL     0.823723\n",
            "NZ     0.164745\n",
            "PH     0.164745\n",
            "PK     0.988468\n",
            "PL     0.658979\n",
            "PR     0.164745\n",
            "PT     0.988468\n",
            "RO     0.329489\n",
            "RS     0.164745\n",
            "RU     0.658979\n",
            "SG     0.329489\n",
            "SI     0.329489\n",
            "TN     0.164745\n",
            "TR     0.494234\n",
            "UA     0.164745\n",
            "US    54.695222\n",
            "VN     0.494234\n",
            "Name: job_title, dtype: float64\n"
          ]
        }
      ]
    },
    {
      "cell_type": "markdown",
      "source": [
        "# Корреляция уровня опыта от зарплаты"
      ],
      "metadata": {
        "id": "oel-jTg1pPPE"
      }
    },
    {
      "cell_type": "code",
      "source": [
        "df.loc[(df.experience_level == 'MI'), 'experience_level'] = 0\n",
        "df.loc[(df.experience_level == 'SE'), 'experience_level'] = 1\n",
        "df.loc[(df.experience_level == 'EN'), 'experience_level'] = 2\n",
        "df.loc[(df.experience_level == 'EX'), 'experience_level'] = 3\n",
        "df['experience_level'] = df['experience_level'].astype({'experience_level': int})"
      ],
      "metadata": {
        "id": "jB4z9N1DaA1k"
      },
      "execution_count": 226,
      "outputs": []
    },
    {
      "cell_type": "code",
      "source": [
        "print(df['experience_level'].corr(df['salary_in_usd'], min_periods=3))"
      ],
      "metadata": {
        "colab": {
          "base_uri": "https://localhost:8080/"
        },
        "id": "KdcgvoRfXJG0",
        "outputId": "9b7697b0-5474-4e98-d411-12517ce46dc7"
      },
      "execution_count": 227,
      "outputs": [
        {
          "output_type": "stream",
          "name": "stdout",
          "text": [
            "0.15092372562532436\n"
          ]
        }
      ]
    },
    {
      "cell_type": "markdown",
      "source": [
        "# Должностей в наборе данных"
      ],
      "metadata": {
        "id": "RMT_ddUXpG1L"
      }
    },
    {
      "cell_type": "code",
      "source": [
        "print(len(list(df.job_title.value_counts())))"
      ],
      "metadata": {
        "colab": {
          "base_uri": "https://localhost:8080/"
        },
        "id": "BFX4PsLvmXC0",
        "outputId": "edc960a3-eedf-4771-c7db-7f552c1ccfdb"
      },
      "execution_count": 228,
      "outputs": [
        {
          "output_type": "stream",
          "name": "stdout",
          "text": [
            "50\n"
          ]
        }
      ]
    },
    {
      "cell_type": "markdown",
      "source": [
        "# 10 наиболее часто встречающихся должностей"
      ],
      "metadata": {
        "id": "PQGVJXiGpHba"
      }
    },
    {
      "cell_type": "code",
      "source": [
        "print(df.job_title.value_counts()[:10])"
      ],
      "metadata": {
        "colab": {
          "base_uri": "https://localhost:8080/"
        },
        "id": "An6AVV2hF19C",
        "outputId": "70b1e3e4-abae-4ade-b9f3-0d72f3bd2ad5"
      },
      "execution_count": 229,
      "outputs": [
        {
          "output_type": "stream",
          "name": "stdout",
          "text": [
            "Data Scientist                143\n",
            "Data Engineer                 132\n",
            "Data Analyst                   97\n",
            "Machine Learning Engineer      41\n",
            "Research Scientist             16\n",
            "Data Science Manager           12\n",
            "Data Architect                 11\n",
            "Big Data Engineer               8\n",
            "Machine Learning Scientist      8\n",
            "Principal Data Scientist        7\n",
            "Name: job_title, dtype: int64\n"
          ]
        }
      ]
    }
  ]
}