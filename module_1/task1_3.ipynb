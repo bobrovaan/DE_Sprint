{
  "cells": [
    {
      "cell_type": "markdown",
      "metadata": {
        "id": "WJwk7v8wyP4o"
      },
      "source": [
        "**Основы синтаксиса и структур в Python**"
      ]
    },
    {
      "cell_type": "markdown",
      "metadata": {
        "id": "04567ciMr6mh"
      },
      "source": [
        "# 1. Парсинг данных о вакансиях python разработчиков с сайта hh.ru"
      ]
    },
    {
      "cell_type": "code",
      "execution_count": null,
      "metadata": {
        "id": "5FK8xw1Sr1ZI"
      },
      "outputs": [],
      "source": [
        "import os\n",
        "import json\n",
        "import requests as req\n",
        "from bs4 import BeautifulSoup as bs\n",
        "from time import sleep\n",
        "from tqdm import tqdm\n",
        "\n",
        "# получение ссылок по запросу\n",
        "def get_links():\n",
        "    url = \"https://hh.ru/search/vacancy?text=%3D+python+AND+%28developer+OR+%22разработчик%22%29&search_field=name\"\n",
        "    resp = req.get(\n",
        "        url,\n",
        "        headers = {\"user-agent\": \"Custom\"}\n",
        "    )\n",
        "\n",
        "    if resp.status_code != 200:\n",
        "        return\n",
        "\n",
        "    soup = bs(resp.content, \"lxml\")\n",
        "\n",
        "    # получаем количество найденых вакансий\n",
        "    try:\n",
        "        cnt = soup.find(\"div\",attrs={\"class\":\"bloko-text bloko-text_tertiary\"}).text\n",
        "        print(cnt)\n",
        "    except:\n",
        "        pass\n",
        "\n",
        "    # получаем количество страниц\n",
        "    try:\n",
        "        page_count = int(soup.find(\"div\",attrs={\"class\":\"pager\"}).find_all(\"span\",recursive=False)[-1].find(\"a\").find(\"span\").text)\n",
        "        print(page_count, \"страниц\")\n",
        "    except:\n",
        "        return\n",
        "    \n",
        "    # получаем все ссылки на вакансии с каждой страницы\n",
        "    for page in tqdm(range(page_count)):\n",
        "        try:\n",
        "            resp = req.get(\n",
        "                url=f\"{url}&page={page}\",\n",
        "                headers={\"user-agent\": \"Custom\"}\n",
        "            )\n",
        "            if resp.status_code == 200:\n",
        "                soup = bs(resp.content, \"lxml\")\n",
        "                for a in soup.find_all(\"a\",attrs={\"class\":\"serp-item__title\"}):\n",
        "                    yield f'{a.attrs[\"href\"].split(\"?\", 1)[0]}'.replace(\"novosibirsk.\", \"\")\n",
        "        except Exception as e:\n",
        "            print(f\"{e}\")\n",
        "        sleep(1)\n",
        "\n",
        "\n",
        "# получение данных из вакансии по переданной ссылке\n",
        "def get_vacancies(link):\n",
        "    data = req.get(\n",
        "        url = link,\n",
        "        headers = {\"user-agent\": \"Custom\"}\n",
        "    )\n",
        "\n",
        "    if data.status_code != 200:\n",
        "        return\n",
        "\n",
        "    soup = bs(data.content, \"lxml\")\n",
        "\n",
        "    # название вакансии\n",
        "    try:\n",
        "        name = soup.find(attrs={\"class\":\"bloko-header-section-1\"}).text\n",
        "    except:\n",
        "        name = \"\"\n",
        "\n",
        "    # требуемый опыт работы\n",
        "    try:\n",
        "        experience = soup.find(attrs={\"class\":\"vacancy-description-list-item\"}).find(\"span\").text\n",
        "    except:\n",
        "        experience = \"\"\n",
        "\n",
        "    # зарплата\n",
        "    try:\n",
        "        salary = soup.find(attrs={\"class\":\"bloko-header-section-2 bloko-header-section-2_lite\"}).text.replace(\"\\xa0000\",\"\")\n",
        "    except:\n",
        "        salary = \"\"\n",
        "\n",
        "    # регион\n",
        "    try:\n",
        "        region = soup.find(attrs={\"data-qa\":\"vacancy-serp__vacancy-address\"}).text.split(\",\", 1)[0]\n",
        "    except:\n",
        "        region = \"\"\n",
        "\n",
        "    vacancy = {\n",
        "        \"title\": name,\n",
        "        \"work experience\": experience,\n",
        "        \"salary\": salary,\n",
        "        \"region\": region,\n",
        "    }\n",
        "\n",
        "    return vacancy\n",
        "\n",
        "\n",
        "# запись результата в файл\n",
        "def download_data(path): \n",
        "    data = []\n",
        "    for a in get_links():\n",
        "        data.append(get_vacancies(a))\n",
        "    res = {\n",
        "        \"data\": data\n",
        "    }\n",
        "    with open(path, \"w+\", encoding=\"utf-8\") as f:\n",
        "        json.dump(res, f, indent = 4, ensure_ascii=False, sort_keys=False)\n",
        "\n",
        "\n",
        "# чтение результата из файла\n",
        "def read_data(path):\n",
        "    with open(path, \"r\", encoding=\"utf-8\") as f:\n",
        "        data = json.load(f)\n",
        "    return json.dumps(data, ensure_ascii=False, indent=4, sort_keys=False)\n",
        "\n",
        "\n",
        "if __name__ == \"__main__\":\n",
        "    path = \"./data.json\"\n",
        "    #download_data(path) # запись результата в файл\n",
        "    res = read_data(path) # чтение результата из файла\n",
        "    print(res)"
      ]
    },
    {
      "cell_type": "markdown",
      "metadata": {
        "id": "ljmRE1zqr9bo"
      },
      "source": [
        "# 2. Палиндром строки"
      ]
    },
    {
      "cell_type": "code",
      "execution_count": 5,
      "metadata": {
        "colab": {
          "base_uri": "https://localhost:8080/"
        },
        "id": "S82AlCE2r-Bw",
        "outputId": "d890a30c-2403-4106-b968-0327c93fe060"
      },
      "outputs": [
        {
          "name": "stdout",
          "output_type": "stream",
          "text": [
            "x = йцу уц й\n",
            "True\n"
          ]
        }
      ],
      "source": [
        "def is_palindrome(s): \n",
        "\n",
        "    reverse = s[::-1] \n",
        "    if (s == reverse): \n",
        "        return True\n",
        "    return False\n",
        "\n",
        "if __name__ == \"__main__\":\n",
        "    \n",
        "    x = input(\"x = \")\n",
        "    print(is_palindrome(x.lower().replace(\" \", \"\")))"
      ]
    },
    {
      "cell_type": "markdown",
      "metadata": {
        "id": "BUR9d91kr-Zv"
      },
      "source": [
        "# 3. Перевод арабского числа в римское"
      ]
    },
    {
      "cell_type": "code",
      "execution_count": 6,
      "metadata": {
        "colab": {
          "base_uri": "https://localhost:8080/"
        },
        "id": "lss3Vj1asAm6",
        "outputId": "1eb07c46-9e01-44bf-e075-49abc2771a06"
      },
      "outputs": [
        {
          "name": "stdout",
          "output_type": "stream",
          "text": [
            "x = 100\n",
            "C\n"
          ]
        }
      ],
      "source": [
        "def roman(data):\n",
        "    ones = [\"\",\"I\",\"II\",\"III\",\"IV\",\"V\",\"VI\",\"VII\",\"VIII\",\"IX\"]\n",
        "    tens = [\"\",\"X\",\"XX\",\"XXX\",\"XL\",\"L\",\"LX\",\"LXX\",\"LXXX\",\"XC\"]\n",
        "    hunds = [\"\",\"C\",\"CC\",\"CCC\",\"CD\",\"D\",\"DC\",\"DCC\",\"DCCC\",\"CM\"]\n",
        "    thous = [\"\",\"M\",\"MM\",\"MMM\",\"MMMM\"]\n",
        "    \n",
        "    t = thous[data // 1000]\n",
        "    h = hunds[data // 100 % 10]\n",
        "    te = tens[data // 10 % 10]\n",
        "    o =  ones[data % 10]\n",
        "    \n",
        "    return t+h+te+o\n",
        "\n",
        "if __name__ == \"__main__\":\n",
        "    x = int(input(\"x = \"))\n",
        "    print(roman(x))"
      ]
    },
    {
      "cell_type": "markdown",
      "metadata": {
        "id": "mZZIThMwsAUJ"
      },
      "source": [
        "# 4. Валидность скобок"
      ]
    },
    {
      "cell_type": "code",
      "execution_count": 37,
      "metadata": {
        "colab": {
          "base_uri": "https://localhost:8080/"
        },
        "id": "Fwh1cB43r_2v",
        "outputId": "526ff555-7c80-44d9-8d3c-6c3c80882f92"
      },
      "outputs": [
        {
          "name": "stdout",
          "output_type": "stream",
          "text": [
            "x = []{()}\n",
            "True\n"
          ]
        }
      ],
      "source": [
        "def is_correct_brackets(text):\n",
        "  while '()' in text or '[]' in text or '{}' in text:\n",
        "    text = text.replace('()', '')\n",
        "    text = text.replace('[]', '')\n",
        "    text = text.replace('{}', '')\n",
        "\n",
        "    # Возвращаем True, если text с пустой строкой\n",
        "    return not text\n",
        "\n",
        "if __name__ == \"__main__\":\n",
        "  x = input(\"x = \")\n",
        "  print(is_correct_brackets(x))"
      ]
    },
    {
      "cell_type": "markdown",
      "metadata": {
        "id": "34CuynV1sCsf"
      },
      "source": [
        "# 5. Умножение двух бинарных чисел"
      ]
    },
    {
      "cell_type": "code",
      "execution_count": 38,
      "metadata": {
        "colab": {
          "base_uri": "https://localhost:8080/"
        },
        "id": "XBwJWMbcsDEf",
        "outputId": "2bb7c49e-2c59-4d18-d445-4a181805e908"
      },
      "outputs": [
        {
          "name": "stdout",
          "output_type": "stream",
          "text": [
            "x1 = 111\n",
            "x2 = 101\n",
            "100011\n"
          ]
        }
      ],
      "source": [
        "def bin_mul(m, n):\n",
        "    return bin(int(m, 2) * int(n, 2))\n",
        "\n",
        "if __name__ == \"__main__\":\n",
        "    x1 = input(\"x1 = \")\n",
        "    x2 = input(\"x2 = \")\n",
        "    res = bin_mul(x1, x2)\n",
        "    print(res[2::])"
      ]
    }
  ],
  "metadata": {
    "colab": {
      "provenance": []
    },
    "kernelspec": {
      "display_name": "Python 3",
      "name": "python3"
    },
    "language_info": {
      "name": "python"
    }
  },
  "nbformat": 4,
  "nbformat_minor": 0
}
